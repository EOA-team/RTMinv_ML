{
 "cells": [
  {
   "cell_type": "code",
   "execution_count": 2,
   "metadata": {},
   "outputs": [],
   "source": [
    "import pickle\n",
    "from pathlib import Path\n",
    "import os"
   ]
  },
  {
   "cell_type": "code",
   "execution_count": 3,
   "metadata": {},
   "outputs": [
    {
     "data": {
      "text/plain": [
       "'/mnt/eo-nas1/eoa-share/projects/010_CropCovEO/code/notebooks'"
      ]
     },
     "execution_count": 3,
     "metadata": {},
     "output_type": "execute_result"
    }
   ],
   "source": [
    "os.getcwd()"
   ]
  },
  {
   "cell_type": "code",
   "execution_count": 4,
   "metadata": {},
   "outputs": [],
   "source": [
    "params_file = \"../../SPART/model_parameters/optical_params.pkl\"\n",
    "with open(params_file, \"rb\") as f:\n",
    "    params = pickle.load(f)"
   ]
  },
  {
   "cell_type": "code",
   "execution_count": 6,
   "metadata": {},
   "outputs": [
    {
     "data": {
      "text/plain": [
       "dict_keys(['wl', 'nr', 'Kab', 'Kca', 'Ks', 'Kw', 'Kdm', 'phiI', 'phiII', 'KcaV', 'KcaZ', 'Kant', 'KcaV2', 'phi', 'GSV', 'nw', 'cbc', 'prot'])"
      ]
     },
     "execution_count": 6,
     "metadata": {},
     "output_type": "execute_result"
    }
   ],
   "source": [
    "params.keys()"
   ]
  },
  {
   "cell_type": "code",
   "execution_count": 10,
   "metadata": {},
   "outputs": [
    {
     "data": {
      "text/plain": [
       "(2001, 3)"
      ]
     },
     "execution_count": 10,
     "metadata": {},
     "output_type": "execute_result"
    }
   ],
   "source": [
    "params['GSV'].shape"
   ]
  },
  {
   "cell_type": "code",
   "execution_count": 11,
   "metadata": {},
   "outputs": [
    {
     "data": {
      "text/plain": [
       "array([[0.87845 , 0.46703 , 0.56505 ],\n",
       "       [0.880975, 0.468141, 0.564975],\n",
       "       [0.8835  , 0.469252, 0.5649  ],\n",
       "       ...,\n",
       "       [0.0352  , 0.926506, 0.851592],\n",
       "       [0.03496 , 0.926368, 0.850971],\n",
       "       [0.03472 , 0.92623 , 0.85035 ]])"
      ]
     },
     "execution_count": 11,
     "metadata": {},
     "output_type": "execute_result"
    }
   ],
   "source": [
    "params['GSV']"
   ]
  },
  {
   "cell_type": "code",
   "execution_count": 12,
   "metadata": {},
   "outputs": [],
   "source": [
    "params_file = \"../../SPART/sensor_information/Sentinel2A-MSI.pkl\"\n",
    "with open(params_file, \"rb\") as f:\n",
    "    params = pickle.load(f)"
   ]
  },
  {
   "cell_type": "code",
   "execution_count": 14,
   "metadata": {},
   "outputs": [
    {
     "data": {
      "text/plain": [
       "dict_keys(['SMAC_coef', 'rang_wvls', 'band_width', 'center_wvl', 'p_srf', 'wvl_srf', 'id_smac_in_all', 'p_srf_smac', 'wl_srf_smac', 'wl_smac', 'mission', 'name', 'swath_widths', 'revisit_time', 'res_spatials', 'band_id_all', 'band_id_smac'])"
      ]
     },
     "execution_count": 14,
     "metadata": {},
     "output_type": "execute_result"
    }
   ],
   "source": [
    "params.keys()"
   ]
  },
  {
   "cell_type": "code",
   "execution_count": 20,
   "metadata": {},
   "outputs": [
    {
     "data": {
      "text/plain": [
       "array([[ 445],\n",
       "       [ 520],\n",
       "       [ 560],\n",
       "       [ 654],\n",
       "       [ 701],\n",
       "       [ 743],\n",
       "       [ 779],\n",
       "       [ 789],\n",
       "       [ 871],\n",
       "       [ 942],\n",
       "       [1372],\n",
       "       [1639],\n",
       "       [2256]], dtype=uint16)"
      ]
     },
     "execution_count": 20,
     "metadata": {},
     "output_type": "execute_result"
    }
   ],
   "source": [
    "params['center_wvl']"
   ]
  },
  {
   "cell_type": "code",
   "execution_count": 21,
   "metadata": {},
   "outputs": [
    {
     "data": {
      "text/plain": [
       "array([[ 445],\n",
       "       [ 520],\n",
       "       [ 560],\n",
       "       [ 654],\n",
       "       [ 701],\n",
       "       [ 743],\n",
       "       [ 779],\n",
       "       [ 789],\n",
       "       [ 871],\n",
       "       [ 942],\n",
       "       [1372],\n",
       "       [1639],\n",
       "       [2256]], dtype=uint16)"
      ]
     },
     "execution_count": 21,
     "metadata": {},
     "output_type": "execute_result"
    }
   ],
   "source": [
    "params['wl_smac']"
   ]
  },
  {
   "cell_type": "code",
   "execution_count": null,
   "metadata": {},
   "outputs": [],
   "source": []
  }
 ],
 "metadata": {
  "kernelspec": {
   "display_name": "10_cropcoveo",
   "language": "python",
   "name": "python3"
  },
  "language_info": {
   "codemirror_mode": {
    "name": "ipython",
    "version": 3
   },
   "file_extension": ".py",
   "mimetype": "text/x-python",
   "name": "python",
   "nbconvert_exporter": "python",
   "pygments_lexer": "ipython3",
   "version": "3.11.7"
  }
 },
 "nbformat": 4,
 "nbformat_minor": 2
}
