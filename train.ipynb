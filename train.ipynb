{
 "cells": [
  {
   "cell_type": "markdown",
   "metadata": {},
   "source": [
    "# Train a ML model for trait retrieval \n",
    "Based on simulated spectra from RTMs"
   ]
  },
  {
   "cell_type": "code",
   "execution_count": 49,
   "metadata": {},
   "outputs": [],
   "source": [
    "import sys\n",
    "import os\n",
    "from pathlib import Path\n",
    "import pickle\n",
    "import pandas as pd\n",
    "from sklearn.model_selection import train_test_split\n",
    "from sklearn.ensemble import RandomForestRegressor\n",
    "from sklearn.metrics import mean_squared_error\n",
    "import numpy as np\n",
    "\n",
    "base_dir = Path(os.path.dirname(os.path.realpath(\"__file__\"))).parent"
   ]
  },
  {
   "cell_type": "markdown",
   "metadata": {},
   "source": [
    "## 1. Get data\n",
    "Load LUT tables in a dataframe and split into train and test (70/30 split)"
   ]
  },
  {
   "cell_type": "code",
   "execution_count": 22,
   "metadata": {},
   "outputs": [],
   "source": [
    "safe_dir = base_dir.joinpath(Path('results/lut_based_inversion/eschikon'))"
   ]
  },
  {
   "cell_type": "code",
   "execution_count": 41,
   "metadata": {},
   "outputs": [],
   "source": [
    "df = pd.DataFrame()\n",
    "\n",
    "for scene_dir in safe_dir.glob('*.SAFE'):\n",
    "  # Load LUT into dataframe\n",
    "  with open(scene_dir.joinpath('all_phases_lai-cab-ccc-car_lut.pkl'), 'rb') as f:\n",
    "    df = pd.concat([df, pickle.load(f)])"
   ]
  },
  {
   "cell_type": "code",
   "execution_count": 42,
   "metadata": {},
   "outputs": [],
   "source": [
    "df.drop(columns=['n', 'cab', 'car', 'ant', 'cbrown', 'cw', 'cm', 'lidfa', 'hspot',\n",
    "       'rsoil', 'psoil', 'lidfb', 'tts', 'tto', 'psi', 'typelidf', 'ccc'], inplace=True)"
   ]
  },
  {
   "cell_type": "code",
   "execution_count": 43,
   "metadata": {},
   "outputs": [],
   "source": [
    "# Splitting the DataFrame into features (X) and target variable (y)\n",
    "X = df.drop('lai', axis=1)\n",
    "y = df['lai']\n",
    "\n",
    "# Splitting the data into 70% training and 30% testing sets\n",
    "X_train, X_test, y_train, y_test = train_test_split(X, y, test_size=0.3, random_state=42)"
   ]
  },
  {
   "cell_type": "markdown",
   "metadata": {},
   "source": [
    "## 2. Set up model: Random Forest"
   ]
  },
  {
   "cell_type": "code",
   "execution_count": 58,
   "metadata": {},
   "outputs": [
    {
     "name": "stdout",
     "output_type": "stream",
     "text": [
      "Mean Squared Error: 0.35\n",
      "Root Mean Squared Error: 0.59\n"
     ]
    }
   ],
   "source": [
    "random_forest_regressor = RandomForestRegressor(n_estimators=100, random_state=42)\n",
    "random_forest_regressor.fit(X_train, y_train)\n",
    "\n",
    "y_pred = random_forest_regressor.predict(X_test)\n",
    "\n",
    "# Evaluate the performance of the model (for example, using Mean Squared Error)\n",
    "mse = mean_squared_error(y_test, y_pred)\n",
    "rmse = np.sqrt(mse)\n",
    "print(f\"Mean Squared Error: {mse:.2f}\")\n",
    "print(f\"Root Mean Squared Error: {rmse:.2f}\")\n"
   ]
  },
  {
   "cell_type": "code",
   "execution_count": 59,
   "metadata": {},
   "outputs": [
    {
     "data": {
      "text/plain": [
       "\"\\nwith open(model_filename, 'rb') as model_file:\\n    loaded_rf_model = pickle.load(model_file)\\n\""
      ]
     },
     "execution_count": 59,
     "metadata": {},
     "output_type": "execute_result"
    }
   ],
   "source": [
    "# Save model\n",
    "\n",
    "model_filename = 'random_forest_model.pkl'\n",
    "with open(model_filename, 'wb') as model_file:\n",
    "    pickle.dump(random_forest_regressor, model_file)\n",
    "\n",
    "\"\"\"\n",
    "with open(model_filename, 'rb') as model_file:\n",
    "    loaded_rf_model = pickle.load(model_file)\n",
    "\"\"\""
   ]
  },
  {
   "cell_type": "markdown",
   "metadata": {},
   "source": [
    "## 3. Inference: get LAI of (new) images"
   ]
  },
  {
   "cell_type": "markdown",
   "metadata": {},
   "source": [
    "## 4. Improve model\n",
    "- Standardise input data\n",
    "- K-fold cross validation\n",
    "- Hyperparameter tuning\n",
    "\n",
    "analyse how many min traning data"
   ]
  },
  {
   "cell_type": "markdown",
   "metadata": {},
   "source": []
  }
 ],
 "metadata": {
  "kernelspec": {
   "display_name": "10_cropcoveo",
   "language": "python",
   "name": "python3"
  },
  "language_info": {
   "codemirror_mode": {
    "name": "ipython",
    "version": 3
   },
   "file_extension": ".py",
   "mimetype": "text/x-python",
   "name": "python",
   "nbconvert_exporter": "python",
   "pygments_lexer": "ipython3",
   "version": "3.11.7"
  }
 },
 "nbformat": 4,
 "nbformat_minor": 2
}
